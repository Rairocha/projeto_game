{
 "cells": [
  {
   "cell_type": "code",
   "execution_count": 4,
   "metadata": {
    "ExecuteTime": {
     "end_time": "2020-06-09T13:35:56.997290Z",
     "start_time": "2020-06-09T13:35:56.994299Z"
    }
   },
   "outputs": [],
   "source": [
    "import numpy as np\n",
    "# ^^^ pyforest auto-imports - don't write above this line\n",
    "import numpy as np"
   ]
  },
  {
   "cell_type": "markdown",
   "metadata": {},
   "source": [
    "## Nunmpy array\n",
    "\n",
    "- Vector"
   ]
  },
  {
   "cell_type": "code",
   "execution_count": 5,
   "metadata": {
    "ExecuteTime": {
     "end_time": "2020-06-09T13:35:57.509214Z",
     "start_time": "2020-06-09T13:35:57.505225Z"
    }
   },
   "outputs": [],
   "source": [
    "my_list = [1,2,3,4,67,8,9,4,22,2,4,44]"
   ]
  },
  {
   "cell_type": "code",
   "execution_count": 6,
   "metadata": {
    "ExecuteTime": {
     "end_time": "2020-06-09T13:35:57.714409Z",
     "start_time": "2020-06-09T13:35:57.710421Z"
    }
   },
   "outputs": [
    {
     "data": {
      "text/plain": [
       "[1, 2, 3, 4, 67, 8, 9, 4, 22, 2, 4, 44, 1, 2, 3, 4, 67, 8, 9, 4, 22, 2, 4, 44]"
      ]
     },
     "execution_count": 6,
     "metadata": {},
     "output_type": "execute_result"
    }
   ],
   "source": [
    "my_list * 2"
   ]
  },
  {
   "cell_type": "code",
   "execution_count": 7,
   "metadata": {
    "ExecuteTime": {
     "end_time": "2020-06-09T13:35:57.943078Z",
     "start_time": "2020-06-09T13:35:57.937067Z"
    }
   },
   "outputs": [
    {
     "ename": "TypeError",
     "evalue": "'>' not supported between instances of 'list' and 'int'",
     "output_type": "error",
     "traceback": [
      "\u001b[1;31m---------------------------------------------------------------------------\u001b[0m",
      "\u001b[1;31mTypeError\u001b[0m                                 Traceback (most recent call last)",
      "\u001b[1;32m<ipython-input-7-1f2a0fc5760e>\u001b[0m in \u001b[0;36m<module>\u001b[1;34m\u001b[0m\n\u001b[1;32m----> 1\u001b[1;33m \u001b[0mmy_list\u001b[0m \u001b[1;33m>\u001b[0m \u001b[1;36m5\u001b[0m\u001b[1;33m\u001b[0m\u001b[1;33m\u001b[0m\u001b[0m\n\u001b[0m",
      "\u001b[1;31mTypeError\u001b[0m: '>' not supported between instances of 'list' and 'int'"
     ]
    }
   ],
   "source": [
    "my_list > 5"
   ]
  },
  {
   "cell_type": "markdown",
   "metadata": {},
   "source": [
    "## Convert list to numpy array"
   ]
  },
  {
   "cell_type": "code",
   "execution_count": 8,
   "metadata": {
    "ExecuteTime": {
     "end_time": "2020-06-09T13:35:58.378372Z",
     "start_time": "2020-06-09T13:35:58.375380Z"
    }
   },
   "outputs": [],
   "source": [
    "my_array = np.array(my_list)"
   ]
  },
  {
   "cell_type": "code",
   "execution_count": 9,
   "metadata": {
    "ExecuteTime": {
     "end_time": "2020-06-09T13:35:58.756171Z",
     "start_time": "2020-06-09T13:35:58.752182Z"
    }
   },
   "outputs": [
    {
     "data": {
      "text/plain": [
       "array([ 1,  2,  3,  4, 67,  8,  9,  4, 22,  2,  4, 44])"
      ]
     },
     "execution_count": 9,
     "metadata": {},
     "output_type": "execute_result"
    }
   ],
   "source": [
    "my_array"
   ]
  },
  {
   "cell_type": "code",
   "execution_count": 10,
   "metadata": {
    "ExecuteTime": {
     "end_time": "2020-06-09T13:35:58.950828Z",
     "start_time": "2020-06-09T13:35:58.946839Z"
    }
   },
   "outputs": [
    {
     "data": {
      "text/plain": [
       "numpy.ndarray"
      ]
     },
     "execution_count": 10,
     "metadata": {},
     "output_type": "execute_result"
    }
   ],
   "source": [
    "type(my_array)"
   ]
  },
  {
   "cell_type": "code",
   "execution_count": 11,
   "metadata": {
    "ExecuteTime": {
     "end_time": "2020-06-09T13:35:59.142648Z",
     "start_time": "2020-06-09T13:35:59.139639Z"
    }
   },
   "outputs": [
    {
     "data": {
      "text/plain": [
       "12"
      ]
     },
     "execution_count": 11,
     "metadata": {},
     "output_type": "execute_result"
    }
   ],
   "source": [
    "my_array.size"
   ]
  },
  {
   "cell_type": "code",
   "execution_count": 12,
   "metadata": {
    "ExecuteTime": {
     "end_time": "2020-06-09T13:35:59.341797Z",
     "start_time": "2020-06-09T13:35:59.337808Z"
    }
   },
   "outputs": [
    {
     "data": {
      "text/plain": [
       "(12,)"
      ]
     },
     "execution_count": 12,
     "metadata": {},
     "output_type": "execute_result"
    }
   ],
   "source": [
    "my_array.shape"
   ]
  },
  {
   "cell_type": "code",
   "execution_count": 13,
   "metadata": {
    "ExecuteTime": {
     "end_time": "2020-06-09T13:35:59.519526Z",
     "start_time": "2020-06-09T13:35:59.516534Z"
    }
   },
   "outputs": [],
   "source": [
    "test1 =[[1],\n",
    "        [2],\n",
    "        [3],\n",
    "        [4]]"
   ]
  },
  {
   "cell_type": "code",
   "execution_count": 14,
   "metadata": {
    "ExecuteTime": {
     "end_time": "2020-06-09T13:35:59.699320Z",
     "start_time": "2020-06-09T13:35:59.695331Z"
    }
   },
   "outputs": [
    {
     "data": {
      "text/plain": [
       "2"
      ]
     },
     "execution_count": 14,
     "metadata": {},
     "output_type": "execute_result"
    }
   ],
   "source": [
    "len(np.array(test1).shape)"
   ]
  },
  {
   "cell_type": "code",
   "execution_count": 15,
   "metadata": {
    "ExecuteTime": {
     "end_time": "2020-06-09T13:35:59.871192Z",
     "start_time": "2020-06-09T13:35:59.866206Z"
    }
   },
   "outputs": [
    {
     "data": {
      "text/plain": [
       "array([0.66483682, 0.13489006, 0.58344099, 0.30715895, 0.26089048,\n",
       "       0.73101849, 0.9766017 , 0.25500904, 0.36668647, 0.70064604,\n",
       "       0.87250869, 0.76864869])"
      ]
     },
     "execution_count": 15,
     "metadata": {},
     "output_type": "execute_result"
    }
   ],
   "source": [
    "np.random.random(size=(12,))"
   ]
  },
  {
   "cell_type": "code",
   "execution_count": 16,
   "metadata": {
    "ExecuteTime": {
     "end_time": "2020-06-09T13:36:00.064273Z",
     "start_time": "2020-06-09T13:36:00.061248Z"
    }
   },
   "outputs": [
    {
     "data": {
      "text/plain": [
       "1"
      ]
     },
     "execution_count": 16,
     "metadata": {},
     "output_type": "execute_result"
    }
   ],
   "source": [
    "# 1-D\n",
    "len(my_array.shape)"
   ]
  },
  {
   "cell_type": "code",
   "execution_count": 17,
   "metadata": {
    "ExecuteTime": {
     "end_time": "2020-06-09T13:36:00.257545Z",
     "start_time": "2020-06-09T13:36:00.254524Z"
    }
   },
   "outputs": [
    {
     "data": {
      "text/plain": [
       "2"
      ]
     },
     "execution_count": 17,
     "metadata": {},
     "output_type": "execute_result"
    }
   ],
   "source": [
    "# 2-D\n",
    "len((6,3))"
   ]
  },
  {
   "cell_type": "code",
   "execution_count": 18,
   "metadata": {
    "ExecuteTime": {
     "end_time": "2020-06-09T13:36:00.477493Z",
     "start_time": "2020-06-09T13:36:00.472507Z"
    }
   },
   "outputs": [
    {
     "data": {
      "text/plain": [
       "array([  2,   4,   6,   8, 134,  16,  18,   8,  44,   4,   8,  88])"
      ]
     },
     "execution_count": 18,
     "metadata": {},
     "output_type": "execute_result"
    }
   ],
   "source": [
    "my_array * 2"
   ]
  },
  {
   "cell_type": "code",
   "execution_count": 19,
   "metadata": {
    "ExecuteTime": {
     "end_time": "2020-06-09T13:36:00.674443Z",
     "start_time": "2020-06-09T13:36:00.670479Z"
    }
   },
   "outputs": [
    {
     "data": {
      "text/plain": [
       "array([ 1,  2,  3,  4, 67,  8,  9,  4, 22,  2,  4, 44])"
      ]
     },
     "execution_count": 19,
     "metadata": {},
     "output_type": "execute_result"
    }
   ],
   "source": [
    "my_array"
   ]
  },
  {
   "cell_type": "code",
   "execution_count": 20,
   "metadata": {
    "ExecuteTime": {
     "end_time": "2020-06-09T13:36:00.864256Z",
     "start_time": "2020-06-09T13:36:00.860239Z"
    }
   },
   "outputs": [
    {
     "data": {
      "text/plain": [
       "array([False, False, False, False,  True,  True,  True, False,  True,\n",
       "       False, False,  True])"
      ]
     },
     "execution_count": 20,
     "metadata": {},
     "output_type": "execute_result"
    }
   ],
   "source": [
    "my_array > 5"
   ]
  },
  {
   "cell_type": "code",
   "execution_count": 21,
   "metadata": {
    "ExecuteTime": {
     "end_time": "2020-06-09T13:36:01.071090Z",
     "start_time": "2020-06-09T13:36:01.068070Z"
    }
   },
   "outputs": [],
   "source": [
    "condition = my_array > 5"
   ]
  },
  {
   "cell_type": "code",
   "execution_count": 22,
   "metadata": {
    "ExecuteTime": {
     "end_time": "2020-06-09T13:36:01.265283Z",
     "start_time": "2020-06-09T13:36:01.261294Z"
    }
   },
   "outputs": [
    {
     "data": {
      "text/plain": [
       "array([False, False, False, False,  True,  True,  True, False,  True,\n",
       "       False, False,  True])"
      ]
     },
     "execution_count": 22,
     "metadata": {},
     "output_type": "execute_result"
    }
   ],
   "source": [
    "condition"
   ]
  },
  {
   "cell_type": "code",
   "execution_count": 23,
   "metadata": {
    "ExecuteTime": {
     "end_time": "2020-06-09T13:36:01.489790Z",
     "start_time": "2020-06-09T13:36:01.485801Z"
    }
   },
   "outputs": [],
   "source": [
    "my_list_of_lists = [[1,2,3],\n",
    "                   [4,5,6]]"
   ]
  },
  {
   "cell_type": "code",
   "execution_count": 24,
   "metadata": {
    "ExecuteTime": {
     "end_time": "2020-06-09T13:36:01.702488Z",
     "start_time": "2020-06-09T13:36:01.698499Z"
    }
   },
   "outputs": [
    {
     "data": {
      "text/plain": [
       "array([[1, 2, 3],\n",
       "       [4, 5, 6]])"
      ]
     },
     "execution_count": 24,
     "metadata": {},
     "output_type": "execute_result"
    }
   ],
   "source": [
    "np.array(my_list_of_lists)"
   ]
  },
  {
   "cell_type": "code",
   "execution_count": 25,
   "metadata": {
    "ExecuteTime": {
     "end_time": "2020-06-09T13:36:01.966035Z",
     "start_time": "2020-06-09T13:36:01.962045Z"
    }
   },
   "outputs": [
    {
     "data": {
      "text/plain": [
       "(2, 3)"
      ]
     },
     "execution_count": 25,
     "metadata": {},
     "output_type": "execute_result"
    }
   ],
   "source": [
    "np.array(my_list_of_lists).shape"
   ]
  },
  {
   "cell_type": "code",
   "execution_count": 26,
   "metadata": {
    "ExecuteTime": {
     "end_time": "2020-06-09T13:36:02.159669Z",
     "start_time": "2020-06-09T13:36:02.156677Z"
    }
   },
   "outputs": [],
   "source": [
    "my_matrix = np.array(my_list_of_lists)"
   ]
  },
  {
   "cell_type": "code",
   "execution_count": 27,
   "metadata": {
    "ExecuteTime": {
     "end_time": "2020-06-09T13:36:02.422180Z",
     "start_time": "2020-06-09T13:36:02.418190Z"
    }
   },
   "outputs": [
    {
     "data": {
      "text/plain": [
       "5"
      ]
     },
     "execution_count": 27,
     "metadata": {},
     "output_type": "execute_result"
    }
   ],
   "source": [
    "my_matrix[1,1]"
   ]
  },
  {
   "cell_type": "code",
   "execution_count": 28,
   "metadata": {
    "ExecuteTime": {
     "end_time": "2020-06-09T13:36:02.713762Z",
     "start_time": "2020-06-09T13:36:02.709772Z"
    }
   },
   "outputs": [
    {
     "data": {
      "text/plain": [
       "array([[1, 2, 3],\n",
       "       [4, 5, 6]])"
      ]
     },
     "execution_count": 28,
     "metadata": {},
     "output_type": "execute_result"
    }
   ],
   "source": [
    "my_matrix"
   ]
  },
  {
   "cell_type": "code",
   "execution_count": 29,
   "metadata": {
    "ExecuteTime": {
     "end_time": "2020-06-09T13:36:03.032416Z",
     "start_time": "2020-06-09T13:36:03.027429Z"
    }
   },
   "outputs": [
    {
     "data": {
      "text/plain": [
       "array([2, 5])"
      ]
     },
     "execution_count": 29,
     "metadata": {},
     "output_type": "execute_result"
    }
   ],
   "source": [
    "my_matrix[:,1]"
   ]
  },
  {
   "cell_type": "code",
   "execution_count": 30,
   "metadata": {
    "ExecuteTime": {
     "end_time": "2020-06-09T13:36:03.307940Z",
     "start_time": "2020-06-09T13:36:03.303950Z"
    }
   },
   "outputs": [
    {
     "data": {
      "text/plain": [
       "array([4, 5, 6])"
      ]
     },
     "execution_count": 30,
     "metadata": {},
     "output_type": "execute_result"
    }
   ],
   "source": [
    "my_matrix[1,:]"
   ]
  },
  {
   "cell_type": "code",
   "execution_count": 59,
   "metadata": {
    "ExecuteTime": {
     "end_time": "2020-06-09T13:43:50.167852Z",
     "start_time": "2020-06-09T13:43:50.163862Z"
    }
   },
   "outputs": [
    {
     "data": {
      "text/plain": [
       "array([[ 2,  4,  4, 11, 15, 11],\n",
       "       [12,  9,  5, 16,  9,  9],\n",
       "       [ 9,  3,  6, 18, 14, 14],\n",
       "       [ 9,  5, 14, 14, 19, 19]])"
      ]
     },
     "execution_count": 59,
     "metadata": {},
     "output_type": "execute_result"
    }
   ],
   "source": [
    "my_matrix = np.random.randint(low=2, high=20, size=(4,6))\n",
    "my_matrix"
   ]
  },
  {
   "cell_type": "code",
   "execution_count": 32,
   "metadata": {
    "ExecuteTime": {
     "end_time": "2020-06-09T13:36:05.343232Z",
     "start_time": "2020-06-09T13:36:05.340264Z"
    }
   },
   "outputs": [],
   "source": [
    "my_matrix[2,0] = np.mean(my_matrix)"
   ]
  },
  {
   "cell_type": "code",
   "execution_count": null,
   "metadata": {},
   "outputs": [],
   "source": []
  },
  {
   "cell_type": "code",
   "execution_count": null,
   "metadata": {},
   "outputs": [],
   "source": []
  },
  {
   "cell_type": "code",
   "execution_count": null,
   "metadata": {},
   "outputs": [],
   "source": []
  },
  {
   "cell_type": "code",
   "execution_count": null,
   "metadata": {},
   "outputs": [],
   "source": []
  },
  {
   "cell_type": "code",
   "execution_count": 33,
   "metadata": {
    "ExecuteTime": {
     "end_time": "2020-06-09T13:36:06.686289Z",
     "start_time": "2020-06-09T13:36:06.682300Z"
    }
   },
   "outputs": [
    {
     "data": {
      "text/plain": [
       "array([[ 4, 11, 19, 14, 19,  6],\n",
       "       [ 6, 13,  3, 17, 17,  3],\n",
       "       [11,  5, 14, 18, 13, 16],\n",
       "       [ 6, 13,  4,  9,  6, 14]])"
      ]
     },
     "execution_count": 33,
     "metadata": {},
     "output_type": "execute_result"
    }
   ],
   "source": [
    "my_matrix"
   ]
  },
  {
   "cell_type": "code",
   "execution_count": 39,
   "metadata": {
    "ExecuteTime": {
     "end_time": "2020-06-09T13:37:15.422710Z",
     "start_time": "2020-06-09T13:37:15.419718Z"
    }
   },
   "outputs": [
    {
     "data": {
      "text/plain": [
       "(4, 6)"
      ]
     },
     "execution_count": 39,
     "metadata": {},
     "output_type": "execute_result"
    }
   ],
   "source": [
    "my_matrix.shape"
   ]
  },
  {
   "cell_type": "code",
   "execution_count": 41,
   "metadata": {
    "ExecuteTime": {
     "end_time": "2020-06-09T13:39:11.324290Z",
     "start_time": "2020-06-09T13:39:11.321269Z"
    }
   },
   "outputs": [],
   "source": [
    "nrows = my_matrix.shape[0]\n",
    "ncolumns = my_matrix.shape[1]"
   ]
  },
  {
   "cell_type": "code",
   "execution_count": 46,
   "metadata": {
    "ExecuteTime": {
     "end_time": "2020-06-09T13:40:38.714389Z",
     "start_time": "2020-06-09T13:40:38.709402Z"
    }
   },
   "outputs": [
    {
     "data": {
      "text/plain": [
       "array([[ 4, 11, 19, 14, 19,  6],\n",
       "       [ 6, 13,  3, 17, 17,  3],\n",
       "       [11,  5, 14, 18, 13, 16],\n",
       "       [ 6, 13,  4,  9,  6, 14]])"
      ]
     },
     "execution_count": 46,
     "metadata": {},
     "output_type": "execute_result"
    }
   ],
   "source": [
    "my_matrix"
   ]
  },
  {
   "cell_type": "code",
   "execution_count": 50,
   "metadata": {
    "ExecuteTime": {
     "end_time": "2020-06-09T13:42:10.198621Z",
     "start_time": "2020-06-09T13:42:10.195629Z"
    }
   },
   "outputs": [],
   "source": [
    "my_list = [1,2,3]"
   ]
  },
  {
   "cell_type": "code",
   "execution_count": 51,
   "metadata": {
    "ExecuteTime": {
     "end_time": "2020-06-09T13:42:14.269756Z",
     "start_time": "2020-06-09T13:42:14.265766Z"
    }
   },
   "outputs": [],
   "source": [
    "my_list[0] = 100"
   ]
  },
  {
   "cell_type": "code",
   "execution_count": 52,
   "metadata": {
    "ExecuteTime": {
     "end_time": "2020-06-09T13:42:17.457313Z",
     "start_time": "2020-06-09T13:42:17.453323Z"
    }
   },
   "outputs": [
    {
     "data": {
      "text/plain": [
       "[100, 2, 3]"
      ]
     },
     "execution_count": 52,
     "metadata": {},
     "output_type": "execute_result"
    }
   ],
   "source": [
    "my_list"
   ]
  },
  {
   "cell_type": "code",
   "execution_count": 55,
   "metadata": {
    "ExecuteTime": {
     "end_time": "2020-06-09T13:42:56.446991Z",
     "start_time": "2020-06-09T13:42:56.443002Z"
    }
   },
   "outputs": [],
   "source": [
    "another_matrix = np.empty(my_matrix.shape)"
   ]
  },
  {
   "cell_type": "code",
   "execution_count": 56,
   "metadata": {
    "ExecuteTime": {
     "end_time": "2020-06-09T13:42:58.906327Z",
     "start_time": "2020-06-09T13:42:58.901339Z"
    }
   },
   "outputs": [
    {
     "data": {
      "text/plain": [
       "array([[6.23042070e-307, 4.67296746e-307, 1.69121096e-306,\n",
       "        8.90104239e-307, 1.02359984e-306, 1.60218491e-306],\n",
       "       [1.69119330e-306, 1.42419802e-306, 1.60220936e-306,\n",
       "        1.95820216e-306, 1.37962320e-306, 8.45593934e-307],\n",
       "       [1.78019761e-306, 8.90071984e-308, 8.45590538e-307,\n",
       "        1.69121231e-306, 2.04719290e-306, 1.00137406e-307],\n",
       "       [2.78150360e-307, 1.37962320e-306, 1.33511018e-306,\n",
       "        6.23059726e-307, 1.86921958e-306, 2.22522596e-306]])"
      ]
     },
     "execution_count": 56,
     "metadata": {},
     "output_type": "execute_result"
    }
   ],
   "source": [
    "another_matrix"
   ]
  },
  {
   "cell_type": "code",
   "execution_count": 60,
   "metadata": {
    "ExecuteTime": {
     "end_time": "2020-06-09T13:43:57.173686Z",
     "start_time": "2020-06-09T13:43:57.168700Z"
    }
   },
   "outputs": [
    {
     "data": {
      "text/plain": [
       "array([[ 2,  4,  4, 11, 15, 11],\n",
       "       [12,  9,  5, 16,  9,  9],\n",
       "       [ 9,  3,  6, 18, 14, 14],\n",
       "       [ 9,  5, 14, 14, 19, 19]])"
      ]
     },
     "execution_count": 60,
     "metadata": {},
     "output_type": "execute_result"
    }
   ],
   "source": [
    "my_matrix"
   ]
  },
  {
   "cell_type": "code",
   "execution_count": 65,
   "metadata": {
    "ExecuteTime": {
     "end_time": "2020-06-09T13:49:45.126967Z",
     "start_time": "2020-06-09T13:49:45.123947Z"
    }
   },
   "outputs": [
    {
     "data": {
      "text/plain": [
       "array([0, 1, 2, 3, 4, 5, 6, 7])"
      ]
     },
     "execution_count": 65,
     "metadata": {},
     "output_type": "execute_result"
    }
   ],
   "source": [
    "np.arange(8)"
   ]
  },
  {
   "cell_type": "code",
   "execution_count": 68,
   "metadata": {
    "ExecuteTime": {
     "end_time": "2020-06-09T13:50:00.745125Z",
     "start_time": "2020-06-09T13:50:00.741136Z"
    }
   },
   "outputs": [
    {
     "data": {
      "text/plain": [
       "[array([0, 1, 2, 3]), array([4, 5, 6, 7])]"
      ]
     },
     "execution_count": 68,
     "metadata": {},
     "output_type": "execute_result"
    }
   ],
   "source": [
    "np.split(np.arange(8), indices_or_sections=2)"
   ]
  },
  {
   "cell_type": "code",
   "execution_count": 78,
   "metadata": {
    "ExecuteTime": {
     "end_time": "2020-06-09T13:51:23.236781Z",
     "start_time": "2020-06-09T13:51:23.233790Z"
    }
   },
   "outputs": [],
   "source": [
    "x = np.random.randint(0, 10, (3,4))"
   ]
  },
  {
   "cell_type": "code",
   "execution_count": 79,
   "metadata": {
    "ExecuteTime": {
     "end_time": "2020-06-09T13:51:23.790383Z",
     "start_time": "2020-06-09T13:51:23.786395Z"
    }
   },
   "outputs": [
    {
     "data": {
      "text/plain": [
       "array([[4, 8, 5, 3],\n",
       "       [9, 4, 9, 8],\n",
       "       [1, 3, 6, 5]])"
      ]
     },
     "execution_count": 79,
     "metadata": {},
     "output_type": "execute_result"
    }
   ],
   "source": [
    "x"
   ]
  },
  {
   "cell_type": "code",
   "execution_count": 103,
   "metadata": {
    "ExecuteTime": {
     "end_time": "2020-06-09T13:54:17.747470Z",
     "start_time": "2020-06-09T13:54:17.742484Z"
    }
   },
   "outputs": [
    {
     "data": {
      "text/plain": [
       "[array([[4, 8],\n",
       "        [9, 4],\n",
       "        [1, 3]]),\n",
       " array([[5, 3],\n",
       "        [9, 8],\n",
       "        [6, 5]])]"
      ]
     },
     "execution_count": 103,
     "metadata": {},
     "output_type": "execute_result"
    }
   ],
   "source": [
    "np.split(x, indices_or_sections=(2,), axis=1 )"
   ]
  },
  {
   "cell_type": "code",
   "execution_count": 64,
   "metadata": {
    "ExecuteTime": {
     "end_time": "2020-06-09T13:46:03.726269Z",
     "start_time": "2020-06-09T13:46:03.721253Z"
    }
   },
   "outputs": [
    {
     "name": "stdout",
     "output_type": "stream",
     "text": [
      "0 0 2\n",
      "0 1 4\n",
      "0 2 4\n",
      "0 3 11\n",
      "0 4 15\n",
      "0 5 11\n",
      "1 0 12\n",
      "1 1 9\n",
      "1 2 5\n",
      "1 3 16\n",
      "1 4 9\n",
      "1 5 9\n",
      "2 0 9\n",
      "2 1 3\n",
      "2 2 6\n",
      "2 3 18\n",
      "2 4 14\n",
      "2 5 14\n",
      "3 0 9\n",
      "3 1 5\n",
      "3 2 14\n",
      "3 3 14\n",
      "3 4 19\n",
      "3 5 19\n"
     ]
    }
   ],
   "source": [
    "for row_number in range(nrows):\n",
    "    for col_number in range(ncolumns):\n",
    "        print(row_number, col_number, my_matrix[row_number, col_number])"
   ]
  },
  {
   "cell_type": "code",
   "execution_count": 61,
   "metadata": {
    "ExecuteTime": {
     "end_time": "2020-06-09T13:44:04.764210Z",
     "start_time": "2020-06-09T13:44:04.760221Z"
    }
   },
   "outputs": [],
   "source": [
    "for i in range(nrows):\n",
    "    for j in range(ncolumns):\n",
    "        \n",
    "        if my_matrix[i,j] > 0 and my_matrix[i,j] < 5:\n",
    "            another_matrix[i,j] = 100"
   ]
  },
  {
   "cell_type": "code",
   "execution_count": 62,
   "metadata": {
    "ExecuteTime": {
     "end_time": "2020-06-09T13:44:05.186791Z",
     "start_time": "2020-06-09T13:44:05.182801Z"
    }
   },
   "outputs": [
    {
     "data": {
      "text/plain": [
       "array([[1.00000000e+002, 1.00000000e+002, 1.00000000e+002,\n",
       "        8.90104239e-307, 1.02359984e-306, 1.60218491e-306],\n",
       "       [1.69119330e-306, 1.42419802e-306, 1.60220936e-306,\n",
       "        1.95820216e-306, 1.37962320e-306, 8.45593934e-307],\n",
       "       [1.78019761e-306, 1.00000000e+002, 8.45590538e-307,\n",
       "        1.69121231e-306, 2.04719290e-306, 1.00137406e-307],\n",
       "       [2.78150360e-307, 1.37962320e-306, 1.33511018e-306,\n",
       "        6.23059726e-307, 1.86921958e-306, 2.22522596e-306]])"
      ]
     },
     "execution_count": 62,
     "metadata": {},
     "output_type": "execute_result"
    }
   ],
   "source": [
    "another_matrix"
   ]
  },
  {
   "cell_type": "code",
   "execution_count": 54,
   "metadata": {
    "ExecuteTime": {
     "end_time": "2020-06-09T13:42:31.226193Z",
     "start_time": "2020-06-09T13:42:31.222204Z"
    }
   },
   "outputs": [
    {
     "data": {
      "text/plain": [
       "array([[100,  11,  19,  14,  19,   6],\n",
       "       [  6,  13, 100,  17,  17, 100],\n",
       "       [ 11,   5,  14,  18,  13,  16],\n",
       "       [  6,  13, 100,   9,   6,  14]])"
      ]
     },
     "execution_count": 54,
     "metadata": {},
     "output_type": "execute_result"
    }
   ],
   "source": [
    "my_matrix"
   ]
  },
  {
   "cell_type": "code",
   "execution_count": null,
   "metadata": {},
   "outputs": [],
   "source": []
  },
  {
   "cell_type": "code",
   "execution_count": 58,
   "metadata": {
    "scrolled": false
   },
   "outputs": [
    {
     "name": "stdout",
     "output_type": "stream",
     "text": [
      "0 0 0\n",
      "0 1 0\n",
      "0 2 0\n",
      "Trocando 9 na posicao 0, 3 para 20\n",
      "0 3 20\n",
      "Trocando 9 na posicao 0, 4 para 20\n",
      "0 4 20\n",
      "0 5 2\n",
      "Trocando 6 na posicao 1, 0 para 20\n",
      "1 0 20\n",
      "1 1 2\n",
      "1 2 0\n",
      "1 3 5\n",
      "1 4 2\n",
      "1 5 4\n",
      "2 0 5\n",
      "2 1 4\n",
      "2 2 5\n",
      "2 3 0\n",
      "Trocando 9 na posicao 2, 4 para 20\n",
      "2 4 20\n",
      "Trocando 8 na posicao 2, 5 para 20\n",
      "2 5 20\n",
      "3 0 4\n",
      "Trocando 9 na posicao 3, 1 para 20\n",
      "3 1 20\n",
      "3 2 4\n",
      "3 3 4\n",
      "Trocando 8 na posicao 3, 4 para 20\n",
      "3 4 20\n",
      "3 5 5\n"
     ]
    }
   ],
   "source": [
    "nrows = my_matrix.shape[0]\n",
    "ncolumns = my_matrix.shape[1]\n",
    "\n",
    "for row_number in range(nrows):\n",
    "    for col_number in range(ncolumns):\n",
    "        if my_matrix[row_number, col_number] > 5:\n",
    "            print(f'Trocando {my_matrix[row_number, col_number]} na posicao {row_number}, {col_number} para 20')\n",
    "            my_matrix[row_number, col_number] = 20\n",
    "\n",
    "        print(row_number, col_number, my_matrix[row_number, col_number])"
   ]
  },
  {
   "cell_type": "code",
   "execution_count": 57,
   "metadata": {},
   "outputs": [
    {
     "data": {
      "text/plain": [
       "array([[0, 0, 0, 9, 9, 2],\n",
       "       [6, 2, 0, 5, 2, 4],\n",
       "       [5, 4, 5, 0, 9, 8],\n",
       "       [4, 9, 4, 4, 8, 5]])"
      ]
     },
     "execution_count": 57,
     "metadata": {},
     "output_type": "execute_result"
    }
   ],
   "source": [
    "my_matrix"
   ]
  },
  {
   "cell_type": "code",
   "execution_count": 59,
   "metadata": {},
   "outputs": [
    {
     "data": {
      "text/plain": [
       "array([[ 0,  0,  0, 20, 20,  2],\n",
       "       [20,  2,  0,  5,  2,  4],\n",
       "       [ 5,  4,  5,  0, 20, 20],\n",
       "       [ 4, 20,  4,  4, 20,  5]])"
      ]
     },
     "execution_count": 59,
     "metadata": {},
     "output_type": "execute_result"
    }
   ],
   "source": [
    "my_matrix"
   ]
  }
 ],
 "metadata": {
  "kernelspec": {
   "display_name": "Python 3",
   "language": "python",
   "name": "python3"
  },
  "language_info": {
   "codemirror_mode": {
    "name": "ipython",
    "version": 3
   },
   "file_extension": ".py",
   "mimetype": "text/x-python",
   "name": "python",
   "nbconvert_exporter": "python",
   "pygments_lexer": "ipython3",
   "version": "3.7.3"
  },
  "toc": {
   "base_numbering": 1,
   "nav_menu": {},
   "number_sections": true,
   "sideBar": true,
   "skip_h1_title": false,
   "title_cell": "Table of Contents",
   "title_sidebar": "Contents",
   "toc_cell": false,
   "toc_position": {},
   "toc_section_display": true,
   "toc_window_display": false
  }
 },
 "nbformat": 4,
 "nbformat_minor": 2
}
